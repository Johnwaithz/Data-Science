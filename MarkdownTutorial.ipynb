{
 "cells": [
  {
   "cell_type": "markdown",
   "id": "26538439-96ee-49b6-bc47-d20100962999",
   "metadata": {},
   "source": [
    "# Heading 1\n",
    "## Heading 2\n",
    "### Heading 3\n",
    "#### Heading 4\n",
    "##### Heading 5\n",
    "###### Heading 6"
   ]
  },
  {
   "cell_type": "markdown",
   "id": "5a0aadc2-f5d4-46e6-a905-0cc81e5bf3fb",
   "metadata": {},
   "source": [
    "**This is strong**\n",
    "\n",
    "__This is also strong__"
   ]
  },
  {
   "cell_type": "markdown",
   "id": "d2e93587-e8b9-4b8b-ab34-ef03b9956e05",
   "metadata": {},
   "source": [
    "`Monospace`\n"
   ]
  },
  {
   "cell_type": "markdown",
   "id": "7d25c87e-7bc5-40c9-b625-208cb4871c68",
   "metadata": {},
   "source": [
    "### A horizontal Line ###\n",
    "***"
   ]
  },
  {
   "cell_type": "markdown",
   "id": "9b8e4c23-bc15-489a-8ce3-aae39d8cf600",
   "metadata": {},
   "source": [
    "### Unordered List ###\n",
    "* Item 1\n",
    "* Item 2\n",
    "   - Item 1 of 1\n",
    "   - Item 2 of 2"
   ]
  },
  {
   "cell_type": "markdown",
   "id": "c12f420e-d77c-4c38-8232-202f8213aa85",
   "metadata": {},
   "source": [
    "### Ordered List ###\n",
    "1. Item 1\n",
    "2. Item 2\n",
    "   1. Item 1 of 1\n",
    "   2. Item 2 of 2"
   ]
  },
  {
   "cell_type": "markdown",
   "id": "2790a221-a7f6-4a22-befd-259b089388ee",
   "metadata": {},
   "source": [
    "#### Images ####\n",
    "##### This one has an error #####\n",
    "[Codecademy](/home/john/Documents/CodeCademy.png)"
   ]
  },
  {
   "cell_type": "markdown",
   "id": "1bf1bb77-4d8a-445c-b4f8-360cfb53888f",
   "metadata": {},
   "source": [
    "#### External Links #####\n",
    "[Codecademy](https://www.codecademy.com/journeys/data-scientist-ml/paths/dsmlcj-22-data-science-foundations/tracks/dsmlcj-22-python-fundamentals-for-data-science-part-i/modules/dsf-getting-started-off-platform-41dbe821-5831-46c2-b0ce-a7c9bd4ef044/articles/getting-more-out-of-jupyter-notebook)"
   ]
  },
  {
   "cell_type": "markdown",
   "id": "2e678b0f-ae9a-4a52-97bc-20bc5c39bdd4",
   "metadata": {},
   "source": [
    "### Basic Commands ###\n",
    "* Basic navigation: Enter, Shift-Enter, Up/k, Down/j.\n",
    "* Saving the notebook: s.\n",
    "* Change Cell types: m to change the current cell to Markdown, y to change it back to code.\n",
    "* Cell creation: a to insert a new cell above the current cell, b to insert a new cell below.\n",
    "* Cell editing: x, c, v, d, z\n",
    "* Delete Current Cell: d + d (press the key twice).\n",
    "* Kernel operations: i, 0 (press twice).\n",
    "* Split the current cell into two: Ctrl + Shift + -.\n",
    "* Find and replace on your code: Esc + f\n",
    "* Toggle cell output: Esc + O"
   ]
  },
  {
   "cell_type": "markdown",
   "id": "c129eba8-5e78-4205-9d44-3d33715a16a9",
   "metadata": {},
   "source": [
    "# LaTex\n",
    "LaTeX is useful for mathematical and scientific writing. For example, showing equations through plain text is difficult and not easily readable. LaTeX allows users to create math equations like you see in textbooks or when you write them on a chalkboard.\n",
    "\n",
    "## Inputting LaTeX\n",
    "In the markdown cell, you can add LaTeX code between $ for inline outputs. You can also use two $$ to create its own centered paragraph in display mode.\n",
    "\n",
    "$$ \\int_0^\\infty \\frac{x^3}{e^x-1}\\,dx = \\frac{\\pi^4}{15} $$\n",
    "\n",
    "### Important Notes:\n",
    "1. To add a little spacing in display mode, use \\\n",
    "2. To add a new line when in math display mode, use \\\\\n",
    "3. To display a fraction, use \\frac{arg 1}{arg 2}\n",
    "4. For power (superscripts text), use ^{}\n",
    "5. For indices (subscripts), use _{}\n",
    "6. For roots, use \\sqrt[n]{arg}\n",
    "7. The [n] is optional.\n",
    "\n"
   ]
  },
  {
   "cell_type": "code",
   "execution_count": null,
   "id": "4e4f9ffd-789a-4531-b663-97becca7df5f",
   "metadata": {},
   "outputs": [],
   "source": []
  }
 ],
 "metadata": {
  "kernelspec": {
   "display_name": "Python 3 (ipykernel)",
   "language": "python",
   "name": "python3"
  },
  "language_info": {
   "codemirror_mode": {
    "name": "ipython",
    "version": 3
   },
   "file_extension": ".py",
   "mimetype": "text/x-python",
   "name": "python",
   "nbconvert_exporter": "python",
   "pygments_lexer": "ipython3",
   "version": "3.13.7"
  }
 },
 "nbformat": 4,
 "nbformat_minor": 5
}
